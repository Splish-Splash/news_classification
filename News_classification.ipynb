{
  "nbformat": 4,
  "nbformat_minor": 0,
  "metadata": {
    "colab": {
      "provenance": []
    },
    "kernelspec": {
      "name": "python3",
      "display_name": "Python 3"
    },
    "language_info": {
      "name": "python"
    },
    "widgets": {
      "application/vnd.jupyter.widget-state+json": {
        "dc2ae7e2d7bf4826b8d4cc24e958dd53": {
          "model_module": "@jupyter-widgets/controls",
          "model_name": "HBoxModel",
          "model_module_version": "1.5.0",
          "state": {
            "_dom_classes": [],
            "_model_module": "@jupyter-widgets/controls",
            "_model_module_version": "1.5.0",
            "_model_name": "HBoxModel",
            "_view_count": null,
            "_view_module": "@jupyter-widgets/controls",
            "_view_module_version": "1.5.0",
            "_view_name": "HBoxView",
            "box_style": "",
            "children": [
              "IPY_MODEL_64126684c65043b4abc6e2e0767a44bd",
              "IPY_MODEL_cdb6e686eb5f43a38703631da31985a2",
              "IPY_MODEL_61ef7c2595e14df8aef32f2be7993ac3"
            ],
            "layout": "IPY_MODEL_b0b2d1b369e84cd286a8bfb119079144"
          }
        },
        "64126684c65043b4abc6e2e0767a44bd": {
          "model_module": "@jupyter-widgets/controls",
          "model_name": "HTMLModel",
          "model_module_version": "1.5.0",
          "state": {
            "_dom_classes": [],
            "_model_module": "@jupyter-widgets/controls",
            "_model_module_version": "1.5.0",
            "_model_name": "HTMLModel",
            "_view_count": null,
            "_view_module": "@jupyter-widgets/controls",
            "_view_module_version": "1.5.0",
            "_view_name": "HTMLView",
            "description": "",
            "description_tooltip": null,
            "layout": "IPY_MODEL_d5b79e86847b4e36bdc229960ff248b7",
            "placeholder": "​",
            "style": "IPY_MODEL_716250d48ba94dc6a49417eafb5f2a19",
            "value": "100%"
          }
        },
        "cdb6e686eb5f43a38703631da31985a2": {
          "model_module": "@jupyter-widgets/controls",
          "model_name": "FloatProgressModel",
          "model_module_version": "1.5.0",
          "state": {
            "_dom_classes": [],
            "_model_module": "@jupyter-widgets/controls",
            "_model_module_version": "1.5.0",
            "_model_name": "FloatProgressModel",
            "_view_count": null,
            "_view_module": "@jupyter-widgets/controls",
            "_view_module_version": "1.5.0",
            "_view_name": "ProgressView",
            "bar_style": "success",
            "description": "",
            "description_tooltip": null,
            "layout": "IPY_MODEL_4f9d5b78458a462f9b66dad7accb708a",
            "max": 5,
            "min": 0,
            "orientation": "horizontal",
            "style": "IPY_MODEL_708dc7853f994fa39011cb0538f8c2dd",
            "value": 5
          }
        },
        "61ef7c2595e14df8aef32f2be7993ac3": {
          "model_module": "@jupyter-widgets/controls",
          "model_name": "HTMLModel",
          "model_module_version": "1.5.0",
          "state": {
            "_dom_classes": [],
            "_model_module": "@jupyter-widgets/controls",
            "_model_module_version": "1.5.0",
            "_model_name": "HTMLModel",
            "_view_count": null,
            "_view_module": "@jupyter-widgets/controls",
            "_view_module_version": "1.5.0",
            "_view_name": "HTMLView",
            "description": "",
            "description_tooltip": null,
            "layout": "IPY_MODEL_b1587405dde345dd83229c9d56a6d7e1",
            "placeholder": "​",
            "style": "IPY_MODEL_5b7a1eafba914839b2edc592b834211e",
            "value": " 5/5 [00:00&lt;00:00, 76.47it/s]"
          }
        },
        "b0b2d1b369e84cd286a8bfb119079144": {
          "model_module": "@jupyter-widgets/base",
          "model_name": "LayoutModel",
          "model_module_version": "1.2.0",
          "state": {
            "_model_module": "@jupyter-widgets/base",
            "_model_module_version": "1.2.0",
            "_model_name": "LayoutModel",
            "_view_count": null,
            "_view_module": "@jupyter-widgets/base",
            "_view_module_version": "1.2.0",
            "_view_name": "LayoutView",
            "align_content": null,
            "align_items": null,
            "align_self": null,
            "border": null,
            "bottom": null,
            "display": null,
            "flex": null,
            "flex_flow": null,
            "grid_area": null,
            "grid_auto_columns": null,
            "grid_auto_flow": null,
            "grid_auto_rows": null,
            "grid_column": null,
            "grid_gap": null,
            "grid_row": null,
            "grid_template_areas": null,
            "grid_template_columns": null,
            "grid_template_rows": null,
            "height": null,
            "justify_content": null,
            "justify_items": null,
            "left": null,
            "margin": null,
            "max_height": null,
            "max_width": null,
            "min_height": null,
            "min_width": null,
            "object_fit": null,
            "object_position": null,
            "order": null,
            "overflow": null,
            "overflow_x": null,
            "overflow_y": null,
            "padding": null,
            "right": null,
            "top": null,
            "visibility": null,
            "width": null
          }
        },
        "d5b79e86847b4e36bdc229960ff248b7": {
          "model_module": "@jupyter-widgets/base",
          "model_name": "LayoutModel",
          "model_module_version": "1.2.0",
          "state": {
            "_model_module": "@jupyter-widgets/base",
            "_model_module_version": "1.2.0",
            "_model_name": "LayoutModel",
            "_view_count": null,
            "_view_module": "@jupyter-widgets/base",
            "_view_module_version": "1.2.0",
            "_view_name": "LayoutView",
            "align_content": null,
            "align_items": null,
            "align_self": null,
            "border": null,
            "bottom": null,
            "display": null,
            "flex": null,
            "flex_flow": null,
            "grid_area": null,
            "grid_auto_columns": null,
            "grid_auto_flow": null,
            "grid_auto_rows": null,
            "grid_column": null,
            "grid_gap": null,
            "grid_row": null,
            "grid_template_areas": null,
            "grid_template_columns": null,
            "grid_template_rows": null,
            "height": null,
            "justify_content": null,
            "justify_items": null,
            "left": null,
            "margin": null,
            "max_height": null,
            "max_width": null,
            "min_height": null,
            "min_width": null,
            "object_fit": null,
            "object_position": null,
            "order": null,
            "overflow": null,
            "overflow_x": null,
            "overflow_y": null,
            "padding": null,
            "right": null,
            "top": null,
            "visibility": null,
            "width": null
          }
        },
        "716250d48ba94dc6a49417eafb5f2a19": {
          "model_module": "@jupyter-widgets/controls",
          "model_name": "DescriptionStyleModel",
          "model_module_version": "1.5.0",
          "state": {
            "_model_module": "@jupyter-widgets/controls",
            "_model_module_version": "1.5.0",
            "_model_name": "DescriptionStyleModel",
            "_view_count": null,
            "_view_module": "@jupyter-widgets/base",
            "_view_module_version": "1.2.0",
            "_view_name": "StyleView",
            "description_width": ""
          }
        },
        "4f9d5b78458a462f9b66dad7accb708a": {
          "model_module": "@jupyter-widgets/base",
          "model_name": "LayoutModel",
          "model_module_version": "1.2.0",
          "state": {
            "_model_module": "@jupyter-widgets/base",
            "_model_module_version": "1.2.0",
            "_model_name": "LayoutModel",
            "_view_count": null,
            "_view_module": "@jupyter-widgets/base",
            "_view_module_version": "1.2.0",
            "_view_name": "LayoutView",
            "align_content": null,
            "align_items": null,
            "align_self": null,
            "border": null,
            "bottom": null,
            "display": null,
            "flex": null,
            "flex_flow": null,
            "grid_area": null,
            "grid_auto_columns": null,
            "grid_auto_flow": null,
            "grid_auto_rows": null,
            "grid_column": null,
            "grid_gap": null,
            "grid_row": null,
            "grid_template_areas": null,
            "grid_template_columns": null,
            "grid_template_rows": null,
            "height": null,
            "justify_content": null,
            "justify_items": null,
            "left": null,
            "margin": null,
            "max_height": null,
            "max_width": null,
            "min_height": null,
            "min_width": null,
            "object_fit": null,
            "object_position": null,
            "order": null,
            "overflow": null,
            "overflow_x": null,
            "overflow_y": null,
            "padding": null,
            "right": null,
            "top": null,
            "visibility": null,
            "width": null
          }
        },
        "708dc7853f994fa39011cb0538f8c2dd": {
          "model_module": "@jupyter-widgets/controls",
          "model_name": "ProgressStyleModel",
          "model_module_version": "1.5.0",
          "state": {
            "_model_module": "@jupyter-widgets/controls",
            "_model_module_version": "1.5.0",
            "_model_name": "ProgressStyleModel",
            "_view_count": null,
            "_view_module": "@jupyter-widgets/base",
            "_view_module_version": "1.2.0",
            "_view_name": "StyleView",
            "bar_color": null,
            "description_width": ""
          }
        },
        "b1587405dde345dd83229c9d56a6d7e1": {
          "model_module": "@jupyter-widgets/base",
          "model_name": "LayoutModel",
          "model_module_version": "1.2.0",
          "state": {
            "_model_module": "@jupyter-widgets/base",
            "_model_module_version": "1.2.0",
            "_model_name": "LayoutModel",
            "_view_count": null,
            "_view_module": "@jupyter-widgets/base",
            "_view_module_version": "1.2.0",
            "_view_name": "LayoutView",
            "align_content": null,
            "align_items": null,
            "align_self": null,
            "border": null,
            "bottom": null,
            "display": null,
            "flex": null,
            "flex_flow": null,
            "grid_area": null,
            "grid_auto_columns": null,
            "grid_auto_flow": null,
            "grid_auto_rows": null,
            "grid_column": null,
            "grid_gap": null,
            "grid_row": null,
            "grid_template_areas": null,
            "grid_template_columns": null,
            "grid_template_rows": null,
            "height": null,
            "justify_content": null,
            "justify_items": null,
            "left": null,
            "margin": null,
            "max_height": null,
            "max_width": null,
            "min_height": null,
            "min_width": null,
            "object_fit": null,
            "object_position": null,
            "order": null,
            "overflow": null,
            "overflow_x": null,
            "overflow_y": null,
            "padding": null,
            "right": null,
            "top": null,
            "visibility": null,
            "width": null
          }
        },
        "5b7a1eafba914839b2edc592b834211e": {
          "model_module": "@jupyter-widgets/controls",
          "model_name": "DescriptionStyleModel",
          "model_module_version": "1.5.0",
          "state": {
            "_model_module": "@jupyter-widgets/controls",
            "_model_module_version": "1.5.0",
            "_model_name": "DescriptionStyleModel",
            "_view_count": null,
            "_view_module": "@jupyter-widgets/base",
            "_view_module_version": "1.2.0",
            "_view_name": "StyleView",
            "description_width": ""
          }
        }
      }
    }
  },
  "cells": [
    {
      "cell_type": "markdown",
      "source": [
        "##Завантаження датасету"
      ],
      "metadata": {
        "id": "tGC0WGpGfGMi"
      }
    },
    {
      "cell_type": "code",
      "execution_count": null,
      "metadata": {
        "id": "yOfobMrqqTet"
      },
      "outputs": [],
      "source": [
        "import pandas as pd\n",
        "import numpy as np\n",
        "from tqdm.auto import tqdm, trange"
      ]
    },
    {
      "cell_type": "code",
      "source": [
        " !wget \"https://huggingface.co/datasets/FIdo-AI/ua-news/resolve/main/train.csv\""
      ],
      "metadata": {
        "colab": {
          "base_uri": "https://localhost:8080/"
        },
        "id": "7AQGfWIfxZhk",
        "outputId": "f680cf24-2895-40c4-e4d3-e81775120d0f"
      },
      "execution_count": null,
      "outputs": [
        {
          "output_type": "stream",
          "name": "stdout",
          "text": [
            "--2022-11-25 21:51:39--  https://huggingface.co/datasets/FIdo-AI/ua-news/resolve/main/train.csv\n",
            "Resolving huggingface.co (huggingface.co)... 54.147.99.175, 44.196.197.193, 2600:1f18:147f:e850:5396:76a0:24fd:e108, ...\n",
            "Connecting to huggingface.co (huggingface.co)|54.147.99.175|:443... connected.\n",
            "HTTP request sent, awaiting response... 302 Found\n",
            "Location: https://cdn-lfs.huggingface.co/repos/40/6b/406b5ad99f71729e5347a75f82daeadc8933a3ce477bde1c06e6cafbff40afd5/16ce693ca49869afcbaa2b0090236fb13df3ac253ab4f2b82b5253adf220218b?response-content-disposition=attachment%3B%20filename%3D%22train.csv%22&Expires=1669672300&Policy=eyJTdGF0ZW1lbnQiOlt7IlJlc291cmNlIjoiaHR0cHM6Ly9jZG4tbGZzLmh1Z2dpbmdmYWNlLmNvL3JlcG9zLzQwLzZiLzQwNmI1YWQ5OWY3MTcyOWU1MzQ3YTc1ZjgyZGFlYWRjODkzM2EzY2U0NzdiZGUxYzA2ZTZjYWZiZmY0MGFmZDUvMTZjZTY5M2NhNDk4NjlhZmNiYWEyYjAwOTAyMzZmYjEzZGYzYWMyNTNhYjRmMmI4MmI1MjUzYWRmMjIwMjE4Yj9yZXNwb25zZS1jb250ZW50LWRpc3Bvc2l0aW9uPWF0dGFjaG1lbnQlM0IlMjBmaWxlbmFtZSUzRCUyMnRyYWluLmNzdiUyMiIsIkNvbmRpdGlvbiI6eyJEYXRlTGVzc1RoYW4iOnsiQVdTOkVwb2NoVGltZSI6MTY2OTY3MjMwMH19fV19&Signature=SlusYL-EoG2N0~GLapn0vJ69nS7PgiO7nyA0YSka-lQg-U-NwyJbweUG2Kn5bkE6wx6eQEu3zDA2gBjZOA2JevZFNqJcbazbdFEUqiwllAjEUpl64ihyw4bV0v6x5FfYDmg7O3s-b3H1lBaVmclvJ0xNReQGshkUNdlxUWIZ~hrzmLVSys-jFE7MYRiEINNJBwQMzsVh5tmCPWMH77nD69Q7cp35iFWm5wizPE7P2iwN7TQ5O076ZfwGJgn~~APQbQq~ShA4sCSiqFtdQFqb8JEf1H7yW1Wc2EEkNw0LbX0Sadr2nydAE1W0AkPm4BaaeRyZUROzNKVjTzpQoakBzw__&Key-Pair-Id=KVTP0A1DKRTAX [following]\n",
            "--2022-11-25 21:51:40--  https://cdn-lfs.huggingface.co/repos/40/6b/406b5ad99f71729e5347a75f82daeadc8933a3ce477bde1c06e6cafbff40afd5/16ce693ca49869afcbaa2b0090236fb13df3ac253ab4f2b82b5253adf220218b?response-content-disposition=attachment%3B%20filename%3D%22train.csv%22&Expires=1669672300&Policy=eyJTdGF0ZW1lbnQiOlt7IlJlc291cmNlIjoiaHR0cHM6Ly9jZG4tbGZzLmh1Z2dpbmdmYWNlLmNvL3JlcG9zLzQwLzZiLzQwNmI1YWQ5OWY3MTcyOWU1MzQ3YTc1ZjgyZGFlYWRjODkzM2EzY2U0NzdiZGUxYzA2ZTZjYWZiZmY0MGFmZDUvMTZjZTY5M2NhNDk4NjlhZmNiYWEyYjAwOTAyMzZmYjEzZGYzYWMyNTNhYjRmMmI4MmI1MjUzYWRmMjIwMjE4Yj9yZXNwb25zZS1jb250ZW50LWRpc3Bvc2l0aW9uPWF0dGFjaG1lbnQlM0IlMjBmaWxlbmFtZSUzRCUyMnRyYWluLmNzdiUyMiIsIkNvbmRpdGlvbiI6eyJEYXRlTGVzc1RoYW4iOnsiQVdTOkVwb2NoVGltZSI6MTY2OTY3MjMwMH19fV19&Signature=SlusYL-EoG2N0~GLapn0vJ69nS7PgiO7nyA0YSka-lQg-U-NwyJbweUG2Kn5bkE6wx6eQEu3zDA2gBjZOA2JevZFNqJcbazbdFEUqiwllAjEUpl64ihyw4bV0v6x5FfYDmg7O3s-b3H1lBaVmclvJ0xNReQGshkUNdlxUWIZ~hrzmLVSys-jFE7MYRiEINNJBwQMzsVh5tmCPWMH77nD69Q7cp35iFWm5wizPE7P2iwN7TQ5O076ZfwGJgn~~APQbQq~ShA4sCSiqFtdQFqb8JEf1H7yW1Wc2EEkNw0LbX0Sadr2nydAE1W0AkPm4BaaeRyZUROzNKVjTzpQoakBzw__&Key-Pair-Id=KVTP0A1DKRTAX\n",
            "Resolving cdn-lfs.huggingface.co (cdn-lfs.huggingface.co)... 13.35.24.87, 13.35.24.76, 13.35.24.128, ...\n",
            "Connecting to cdn-lfs.huggingface.co (cdn-lfs.huggingface.co)|13.35.24.87|:443... connected.\n",
            "HTTP request sent, awaiting response... 200 OK\n",
            "Length: 324119642 (309M) [text/plain]\n",
            "Saving to: ‘train.csv’\n",
            "\n",
            "train.csv           100%[===================>] 309.10M  22.1MB/s    in 15s     \n",
            "\n",
            "2022-11-25 21:51:56 (20.1 MB/s) - ‘train.csv’ saved [324119642/324119642]\n",
            "\n"
          ]
        }
      ]
    },
    {
      "cell_type": "code",
      "source": [
        "data = pd.read_csv(r\"train.csv\", nrows=10000)\n",
        "data"
      ],
      "metadata": {
        "colab": {
          "base_uri": "https://localhost:8080/",
          "height": 423
        },
        "id": "8aNb5QyOsnKM",
        "outputId": "ffcc38fb-4941-4240-91bb-2897529b0317"
      },
      "execution_count": null,
      "outputs": [
        {
          "output_type": "execute_result",
          "data": {
            "text/plain": [
              "                                                  title  \\\n",
              "0     ВЕРНИДУБ: «Наносимо 25 ударів, 15 у ворота, а ...   \n",
              "1           У \"Київстар\" заявляють, що їх обшукала ДФС    \n",
              "2      В 2016 році 1% найзаможніших людей вперше ста...   \n",
              "3     Шакіл О’Ніл продав шикарний маєток у Флориді в...   \n",
              "4     У «заблокованій» СБУ B2B Jewelry заявили, що п...   \n",
              "...                                                 ...   \n",
              "9995  Кривий логотип Apple на iPhone підвищив вартіс...   \n",
              "9996  Курс валют НБУ: гривня зміцнилася до долара та...   \n",
              "9997   Присідай із своєю собакою: в соцмережі запуст...   \n",
              "9998   Розвідники США не виключають, що Росія спробу...   \n",
              "9999   Тимошенко буде координувати коаліцію замість ...   \n",
              "\n",
              "                                                   text  \\\n",
              "0     Головний тренер солігорського «Шахтаря» Юрій В...   \n",
              "1     Про це на своїй сторінці у Facebook написав пр...   \n",
              "2     Про це повідомляється в доповіді некомерційної...   \n",
              "3      Легенда НБА Шакіл О’Ніл продав свій маєток у ...   \n",
              "4      Засновник фінансової піраміди B2B Jewelry Мик...   \n",
              "...                                                 ...   \n",
              "9995  Apple встановила суворі стандарти контролю яко...   \n",
              "9996   На середу, 7 серпня, Національний банк Україн...   \n",
              "9997  Про це повідомляє Meduza з Instagram. Фітнес-б...   \n",
              "9998  Про це повідомляє Еспресо.TV з посиланням на \"...   \n",
              "9999  Про це повідомив голова фракції \"Блок Петра По...   \n",
              "\n",
              "                                                   tags      target  \n",
              "0     Футбол|Інші новини|Шахтар Солігорськ|Юрій Верн...       спорт  \n",
              "1                 |Київстар|Новини|податкова|ДФС|обшук|      новини  \n",
              "2     |багатство|найбагатші люди світу|Новини|бідність|      новини  \n",
              "3                            США|Баскетбол|Флорида|Фото       спорт  \n",
              "4     Служба безпеки України (СБУ)|Финансовая пирами...      бізнес  \n",
              "...                                                 ...         ...  \n",
              "9995  Техно|Новини Техно|Смартфони|Apple|iPhone|iPho...  технології  \n",
              "9996  Курс валют|Курс рубля|Курс долара до гривні|Ку...      бізнес  \n",
              "9997                  |флешмоб|Instagram|собака|Новини|      новини  \n",
              "9998   |Росія|Придністров'я|Новини|Чорне море|розвідка|    політика  \n",
              "9999  |Юлія Тимошенко|Юрій Луценко|координатор|Олег ...    політика  \n",
              "\n",
              "[10000 rows x 4 columns]"
            ],
            "text/html": [
              "\n",
              "  <div id=\"df-5d181440-ed7b-4e9c-8568-9abe26064a67\">\n",
              "    <div class=\"colab-df-container\">\n",
              "      <div>\n",
              "<style scoped>\n",
              "    .dataframe tbody tr th:only-of-type {\n",
              "        vertical-align: middle;\n",
              "    }\n",
              "\n",
              "    .dataframe tbody tr th {\n",
              "        vertical-align: top;\n",
              "    }\n",
              "\n",
              "    .dataframe thead th {\n",
              "        text-align: right;\n",
              "    }\n",
              "</style>\n",
              "<table border=\"1\" class=\"dataframe\">\n",
              "  <thead>\n",
              "    <tr style=\"text-align: right;\">\n",
              "      <th></th>\n",
              "      <th>title</th>\n",
              "      <th>text</th>\n",
              "      <th>tags</th>\n",
              "      <th>target</th>\n",
              "    </tr>\n",
              "  </thead>\n",
              "  <tbody>\n",
              "    <tr>\n",
              "      <th>0</th>\n",
              "      <td>ВЕРНИДУБ: «Наносимо 25 ударів, 15 у ворота, а ...</td>\n",
              "      <td>Головний тренер солігорського «Шахтаря» Юрій В...</td>\n",
              "      <td>Футбол|Інші новини|Шахтар Солігорськ|Юрій Верн...</td>\n",
              "      <td>спорт</td>\n",
              "    </tr>\n",
              "    <tr>\n",
              "      <th>1</th>\n",
              "      <td>У \"Київстар\" заявляють, що їх обшукала ДФС</td>\n",
              "      <td>Про це на своїй сторінці у Facebook написав пр...</td>\n",
              "      <td>|Київстар|Новини|податкова|ДФС|обшук|</td>\n",
              "      <td>новини</td>\n",
              "    </tr>\n",
              "    <tr>\n",
              "      <th>2</th>\n",
              "      <td>В 2016 році 1% найзаможніших людей вперше ста...</td>\n",
              "      <td>Про це повідомляється в доповіді некомерційної...</td>\n",
              "      <td>|багатство|найбагатші люди світу|Новини|бідність|</td>\n",
              "      <td>новини</td>\n",
              "    </tr>\n",
              "    <tr>\n",
              "      <th>3</th>\n",
              "      <td>Шакіл О’Ніл продав шикарний маєток у Флориді в...</td>\n",
              "      <td>Легенда НБА Шакіл О’Ніл продав свій маєток у ...</td>\n",
              "      <td>США|Баскетбол|Флорида|Фото</td>\n",
              "      <td>спорт</td>\n",
              "    </tr>\n",
              "    <tr>\n",
              "      <th>4</th>\n",
              "      <td>У «заблокованій» СБУ B2B Jewelry заявили, що п...</td>\n",
              "      <td>Засновник фінансової піраміди B2B Jewelry Мик...</td>\n",
              "      <td>Служба безпеки України (СБУ)|Финансовая пирами...</td>\n",
              "      <td>бізнес</td>\n",
              "    </tr>\n",
              "    <tr>\n",
              "      <th>...</th>\n",
              "      <td>...</td>\n",
              "      <td>...</td>\n",
              "      <td>...</td>\n",
              "      <td>...</td>\n",
              "    </tr>\n",
              "    <tr>\n",
              "      <th>9995</th>\n",
              "      <td>Кривий логотип Apple на iPhone підвищив вартіс...</td>\n",
              "      <td>Apple встановила суворі стандарти контролю яко...</td>\n",
              "      <td>Техно|Новини Техно|Смартфони|Apple|iPhone|iPho...</td>\n",
              "      <td>технології</td>\n",
              "    </tr>\n",
              "    <tr>\n",
              "      <th>9996</th>\n",
              "      <td>Курс валют НБУ: гривня зміцнилася до долара та...</td>\n",
              "      <td>На середу, 7 серпня, Національний банк Україн...</td>\n",
              "      <td>Курс валют|Курс рубля|Курс долара до гривні|Ку...</td>\n",
              "      <td>бізнес</td>\n",
              "    </tr>\n",
              "    <tr>\n",
              "      <th>9997</th>\n",
              "      <td>Присідай із своєю собакою: в соцмережі запуст...</td>\n",
              "      <td>Про це повідомляє Meduza з Instagram. Фітнес-б...</td>\n",
              "      <td>|флешмоб|Instagram|собака|Новини|</td>\n",
              "      <td>новини</td>\n",
              "    </tr>\n",
              "    <tr>\n",
              "      <th>9998</th>\n",
              "      <td>Розвідники США не виключають, що Росія спробу...</td>\n",
              "      <td>Про це повідомляє Еспресо.TV з посиланням на \"...</td>\n",
              "      <td>|Росія|Придністров'я|Новини|Чорне море|розвідка|</td>\n",
              "      <td>політика</td>\n",
              "    </tr>\n",
              "    <tr>\n",
              "      <th>9999</th>\n",
              "      <td>Тимошенко буде координувати коаліцію замість ...</td>\n",
              "      <td>Про це повідомив голова фракції \"Блок Петра По...</td>\n",
              "      <td>|Юлія Тимошенко|Юрій Луценко|координатор|Олег ...</td>\n",
              "      <td>політика</td>\n",
              "    </tr>\n",
              "  </tbody>\n",
              "</table>\n",
              "<p>10000 rows × 4 columns</p>\n",
              "</div>\n",
              "      <button class=\"colab-df-convert\" onclick=\"convertToInteractive('df-5d181440-ed7b-4e9c-8568-9abe26064a67')\"\n",
              "              title=\"Convert this dataframe to an interactive table.\"\n",
              "              style=\"display:none;\">\n",
              "        \n",
              "  <svg xmlns=\"http://www.w3.org/2000/svg\" height=\"24px\"viewBox=\"0 0 24 24\"\n",
              "       width=\"24px\">\n",
              "    <path d=\"M0 0h24v24H0V0z\" fill=\"none\"/>\n",
              "    <path d=\"M18.56 5.44l.94 2.06.94-2.06 2.06-.94-2.06-.94-.94-2.06-.94 2.06-2.06.94zm-11 1L8.5 8.5l.94-2.06 2.06-.94-2.06-.94L8.5 2.5l-.94 2.06-2.06.94zm10 10l.94 2.06.94-2.06 2.06-.94-2.06-.94-.94-2.06-.94 2.06-2.06.94z\"/><path d=\"M17.41 7.96l-1.37-1.37c-.4-.4-.92-.59-1.43-.59-.52 0-1.04.2-1.43.59L10.3 9.45l-7.72 7.72c-.78.78-.78 2.05 0 2.83L4 21.41c.39.39.9.59 1.41.59.51 0 1.02-.2 1.41-.59l7.78-7.78 2.81-2.81c.8-.78.8-2.07 0-2.86zM5.41 20L4 18.59l7.72-7.72 1.47 1.35L5.41 20z\"/>\n",
              "  </svg>\n",
              "      </button>\n",
              "      \n",
              "  <style>\n",
              "    .colab-df-container {\n",
              "      display:flex;\n",
              "      flex-wrap:wrap;\n",
              "      gap: 12px;\n",
              "    }\n",
              "\n",
              "    .colab-df-convert {\n",
              "      background-color: #E8F0FE;\n",
              "      border: none;\n",
              "      border-radius: 50%;\n",
              "      cursor: pointer;\n",
              "      display: none;\n",
              "      fill: #1967D2;\n",
              "      height: 32px;\n",
              "      padding: 0 0 0 0;\n",
              "      width: 32px;\n",
              "    }\n",
              "\n",
              "    .colab-df-convert:hover {\n",
              "      background-color: #E2EBFA;\n",
              "      box-shadow: 0px 1px 2px rgba(60, 64, 67, 0.3), 0px 1px 3px 1px rgba(60, 64, 67, 0.15);\n",
              "      fill: #174EA6;\n",
              "    }\n",
              "\n",
              "    [theme=dark] .colab-df-convert {\n",
              "      background-color: #3B4455;\n",
              "      fill: #D2E3FC;\n",
              "    }\n",
              "\n",
              "    [theme=dark] .colab-df-convert:hover {\n",
              "      background-color: #434B5C;\n",
              "      box-shadow: 0px 1px 3px 1px rgba(0, 0, 0, 0.15);\n",
              "      filter: drop-shadow(0px 1px 2px rgba(0, 0, 0, 0.3));\n",
              "      fill: #FFFFFF;\n",
              "    }\n",
              "  </style>\n",
              "\n",
              "      <script>\n",
              "        const buttonEl =\n",
              "          document.querySelector('#df-5d181440-ed7b-4e9c-8568-9abe26064a67 button.colab-df-convert');\n",
              "        buttonEl.style.display =\n",
              "          google.colab.kernel.accessAllowed ? 'block' : 'none';\n",
              "\n",
              "        async function convertToInteractive(key) {\n",
              "          const element = document.querySelector('#df-5d181440-ed7b-4e9c-8568-9abe26064a67');\n",
              "          const dataTable =\n",
              "            await google.colab.kernel.invokeFunction('convertToInteractive',\n",
              "                                                     [key], {});\n",
              "          if (!dataTable) return;\n",
              "\n",
              "          const docLinkHtml = 'Like what you see? Visit the ' +\n",
              "            '<a target=\"_blank\" href=https://colab.research.google.com/notebooks/data_table.ipynb>data table notebook</a>'\n",
              "            + ' to learn more about interactive tables.';\n",
              "          element.innerHTML = '';\n",
              "          dataTable['output_type'] = 'display_data';\n",
              "          await google.colab.output.renderOutput(dataTable, element);\n",
              "          const docLink = document.createElement('div');\n",
              "          docLink.innerHTML = docLinkHtml;\n",
              "          element.appendChild(docLink);\n",
              "        }\n",
              "      </script>\n",
              "    </div>\n",
              "  </div>\n",
              "  "
            ]
          },
          "metadata": {},
          "execution_count": 199
        }
      ]
    },
    {
      "cell_type": "code",
      "source": [
        "data.groupby('target').count()"
      ],
      "metadata": {
        "colab": {
          "base_uri": "https://localhost:8080/",
          "height": 237
        },
        "id": "lZoCOasyyIxO",
        "outputId": "d4ddd947-e5e7-410b-e70a-3cb9ce8147de"
      },
      "execution_count": null,
      "outputs": [
        {
          "output_type": "execute_result",
          "data": {
            "text/plain": [
              "            title  text  tags\n",
              "target                       \n",
              "бізнес       1262  1262  1262\n",
              "новини       2145  2145  2145\n",
              "політика     3312  3312  3312\n",
              "спорт        2311  2311  2311\n",
              "технології    970   970   970"
            ],
            "text/html": [
              "\n",
              "  <div id=\"df-a05b0cee-b459-4f20-91fc-2fb334423c81\">\n",
              "    <div class=\"colab-df-container\">\n",
              "      <div>\n",
              "<style scoped>\n",
              "    .dataframe tbody tr th:only-of-type {\n",
              "        vertical-align: middle;\n",
              "    }\n",
              "\n",
              "    .dataframe tbody tr th {\n",
              "        vertical-align: top;\n",
              "    }\n",
              "\n",
              "    .dataframe thead th {\n",
              "        text-align: right;\n",
              "    }\n",
              "</style>\n",
              "<table border=\"1\" class=\"dataframe\">\n",
              "  <thead>\n",
              "    <tr style=\"text-align: right;\">\n",
              "      <th></th>\n",
              "      <th>title</th>\n",
              "      <th>text</th>\n",
              "      <th>tags</th>\n",
              "    </tr>\n",
              "    <tr>\n",
              "      <th>target</th>\n",
              "      <th></th>\n",
              "      <th></th>\n",
              "      <th></th>\n",
              "    </tr>\n",
              "  </thead>\n",
              "  <tbody>\n",
              "    <tr>\n",
              "      <th>бізнес</th>\n",
              "      <td>1262</td>\n",
              "      <td>1262</td>\n",
              "      <td>1262</td>\n",
              "    </tr>\n",
              "    <tr>\n",
              "      <th>новини</th>\n",
              "      <td>2145</td>\n",
              "      <td>2145</td>\n",
              "      <td>2145</td>\n",
              "    </tr>\n",
              "    <tr>\n",
              "      <th>політика</th>\n",
              "      <td>3312</td>\n",
              "      <td>3312</td>\n",
              "      <td>3312</td>\n",
              "    </tr>\n",
              "    <tr>\n",
              "      <th>спорт</th>\n",
              "      <td>2311</td>\n",
              "      <td>2311</td>\n",
              "      <td>2311</td>\n",
              "    </tr>\n",
              "    <tr>\n",
              "      <th>технології</th>\n",
              "      <td>970</td>\n",
              "      <td>970</td>\n",
              "      <td>970</td>\n",
              "    </tr>\n",
              "  </tbody>\n",
              "</table>\n",
              "</div>\n",
              "      <button class=\"colab-df-convert\" onclick=\"convertToInteractive('df-a05b0cee-b459-4f20-91fc-2fb334423c81')\"\n",
              "              title=\"Convert this dataframe to an interactive table.\"\n",
              "              style=\"display:none;\">\n",
              "        \n",
              "  <svg xmlns=\"http://www.w3.org/2000/svg\" height=\"24px\"viewBox=\"0 0 24 24\"\n",
              "       width=\"24px\">\n",
              "    <path d=\"M0 0h24v24H0V0z\" fill=\"none\"/>\n",
              "    <path d=\"M18.56 5.44l.94 2.06.94-2.06 2.06-.94-2.06-.94-.94-2.06-.94 2.06-2.06.94zm-11 1L8.5 8.5l.94-2.06 2.06-.94-2.06-.94L8.5 2.5l-.94 2.06-2.06.94zm10 10l.94 2.06.94-2.06 2.06-.94-2.06-.94-.94-2.06-.94 2.06-2.06.94z\"/><path d=\"M17.41 7.96l-1.37-1.37c-.4-.4-.92-.59-1.43-.59-.52 0-1.04.2-1.43.59L10.3 9.45l-7.72 7.72c-.78.78-.78 2.05 0 2.83L4 21.41c.39.39.9.59 1.41.59.51 0 1.02-.2 1.41-.59l7.78-7.78 2.81-2.81c.8-.78.8-2.07 0-2.86zM5.41 20L4 18.59l7.72-7.72 1.47 1.35L5.41 20z\"/>\n",
              "  </svg>\n",
              "      </button>\n",
              "      \n",
              "  <style>\n",
              "    .colab-df-container {\n",
              "      display:flex;\n",
              "      flex-wrap:wrap;\n",
              "      gap: 12px;\n",
              "    }\n",
              "\n",
              "    .colab-df-convert {\n",
              "      background-color: #E8F0FE;\n",
              "      border: none;\n",
              "      border-radius: 50%;\n",
              "      cursor: pointer;\n",
              "      display: none;\n",
              "      fill: #1967D2;\n",
              "      height: 32px;\n",
              "      padding: 0 0 0 0;\n",
              "      width: 32px;\n",
              "    }\n",
              "\n",
              "    .colab-df-convert:hover {\n",
              "      background-color: #E2EBFA;\n",
              "      box-shadow: 0px 1px 2px rgba(60, 64, 67, 0.3), 0px 1px 3px 1px rgba(60, 64, 67, 0.15);\n",
              "      fill: #174EA6;\n",
              "    }\n",
              "\n",
              "    [theme=dark] .colab-df-convert {\n",
              "      background-color: #3B4455;\n",
              "      fill: #D2E3FC;\n",
              "    }\n",
              "\n",
              "    [theme=dark] .colab-df-convert:hover {\n",
              "      background-color: #434B5C;\n",
              "      box-shadow: 0px 1px 3px 1px rgba(0, 0, 0, 0.15);\n",
              "      filter: drop-shadow(0px 1px 2px rgba(0, 0, 0, 0.3));\n",
              "      fill: #FFFFFF;\n",
              "    }\n",
              "  </style>\n",
              "\n",
              "      <script>\n",
              "        const buttonEl =\n",
              "          document.querySelector('#df-a05b0cee-b459-4f20-91fc-2fb334423c81 button.colab-df-convert');\n",
              "        buttonEl.style.display =\n",
              "          google.colab.kernel.accessAllowed ? 'block' : 'none';\n",
              "\n",
              "        async function convertToInteractive(key) {\n",
              "          const element = document.querySelector('#df-a05b0cee-b459-4f20-91fc-2fb334423c81');\n",
              "          const dataTable =\n",
              "            await google.colab.kernel.invokeFunction('convertToInteractive',\n",
              "                                                     [key], {});\n",
              "          if (!dataTable) return;\n",
              "\n",
              "          const docLinkHtml = 'Like what you see? Visit the ' +\n",
              "            '<a target=\"_blank\" href=https://colab.research.google.com/notebooks/data_table.ipynb>data table notebook</a>'\n",
              "            + ' to learn more about interactive tables.';\n",
              "          element.innerHTML = '';\n",
              "          dataTable['output_type'] = 'display_data';\n",
              "          await google.colab.output.renderOutput(dataTable, element);\n",
              "          const docLink = document.createElement('div');\n",
              "          docLink.innerHTML = docLinkHtml;\n",
              "          element.appendChild(docLink);\n",
              "        }\n",
              "      </script>\n",
              "    </div>\n",
              "  </div>\n",
              "  "
            ]
          },
          "metadata": {},
          "execution_count": 180
        }
      ]
    },
    {
      "cell_type": "code",
      "source": [
        "topics = ['бізнес', 'новини', 'політика', 'спорт', 'технології']\n",
        "news_in_topic = 970"
      ],
      "metadata": {
        "id": "a70al5mSzQyQ"
      },
      "execution_count": null,
      "outputs": []
    },
    {
      "cell_type": "code",
      "source": [
        "df_res = pd.DataFrame()\n",
        "for topic in tqdm(topics):\n",
        "    df_topic = data[data['target'] == topic][:news_in_topic]\n",
        "    df_res = df_res.append(df_topic, ignore_index=True)"
      ],
      "metadata": {
        "colab": {
          "base_uri": "https://localhost:8080/",
          "height": 49,
          "referenced_widgets": [
            "dc2ae7e2d7bf4826b8d4cc24e958dd53",
            "64126684c65043b4abc6e2e0767a44bd",
            "cdb6e686eb5f43a38703631da31985a2",
            "61ef7c2595e14df8aef32f2be7993ac3",
            "b0b2d1b369e84cd286a8bfb119079144",
            "d5b79e86847b4e36bdc229960ff248b7",
            "716250d48ba94dc6a49417eafb5f2a19",
            "4f9d5b78458a462f9b66dad7accb708a",
            "708dc7853f994fa39011cb0538f8c2dd",
            "b1587405dde345dd83229c9d56a6d7e1",
            "5b7a1eafba914839b2edc592b834211e"
          ]
        },
        "id": "VKbSESAMzN7S",
        "outputId": "5b2cbd96-d892-4a7e-d5e1-1fd3749fb85d"
      },
      "execution_count": null,
      "outputs": [
        {
          "output_type": "display_data",
          "data": {
            "text/plain": [
              "  0%|          | 0/5 [00:00<?, ?it/s]"
            ],
            "application/vnd.jupyter.widget-view+json": {
              "version_major": 2,
              "version_minor": 0,
              "model_id": "dc2ae7e2d7bf4826b8d4cc24e958dd53"
            }
          },
          "metadata": {}
        }
      ]
    },
    {
      "cell_type": "markdown",
      "source": [
        "##Передобробка"
      ],
      "metadata": {
        "id": "OeyVoZzpc8sJ"
      }
    },
    {
      "cell_type": "code",
      "source": [
        "df_res.groupby('target').count()"
      ],
      "metadata": {
        "colab": {
          "base_uri": "https://localhost:8080/",
          "height": 237
        },
        "id": "dTqXWeymzn8F",
        "outputId": "a71cc7c5-1dae-48ee-9472-b5376f698963"
      },
      "execution_count": null,
      "outputs": [
        {
          "output_type": "execute_result",
          "data": {
            "text/plain": [
              "            title  text  tags\n",
              "target                       \n",
              "бізнес        970   970   970\n",
              "новини        970   970   970\n",
              "політика      970   970   970\n",
              "спорт         970   970   970\n",
              "технології    970   970   970"
            ],
            "text/html": [
              "\n",
              "  <div id=\"df-29696d43-9603-4693-8ed9-4d550ed43809\">\n",
              "    <div class=\"colab-df-container\">\n",
              "      <div>\n",
              "<style scoped>\n",
              "    .dataframe tbody tr th:only-of-type {\n",
              "        vertical-align: middle;\n",
              "    }\n",
              "\n",
              "    .dataframe tbody tr th {\n",
              "        vertical-align: top;\n",
              "    }\n",
              "\n",
              "    .dataframe thead th {\n",
              "        text-align: right;\n",
              "    }\n",
              "</style>\n",
              "<table border=\"1\" class=\"dataframe\">\n",
              "  <thead>\n",
              "    <tr style=\"text-align: right;\">\n",
              "      <th></th>\n",
              "      <th>title</th>\n",
              "      <th>text</th>\n",
              "      <th>tags</th>\n",
              "    </tr>\n",
              "    <tr>\n",
              "      <th>target</th>\n",
              "      <th></th>\n",
              "      <th></th>\n",
              "      <th></th>\n",
              "    </tr>\n",
              "  </thead>\n",
              "  <tbody>\n",
              "    <tr>\n",
              "      <th>бізнес</th>\n",
              "      <td>970</td>\n",
              "      <td>970</td>\n",
              "      <td>970</td>\n",
              "    </tr>\n",
              "    <tr>\n",
              "      <th>новини</th>\n",
              "      <td>970</td>\n",
              "      <td>970</td>\n",
              "      <td>970</td>\n",
              "    </tr>\n",
              "    <tr>\n",
              "      <th>політика</th>\n",
              "      <td>970</td>\n",
              "      <td>970</td>\n",
              "      <td>970</td>\n",
              "    </tr>\n",
              "    <tr>\n",
              "      <th>спорт</th>\n",
              "      <td>970</td>\n",
              "      <td>970</td>\n",
              "      <td>970</td>\n",
              "    </tr>\n",
              "    <tr>\n",
              "      <th>технології</th>\n",
              "      <td>970</td>\n",
              "      <td>970</td>\n",
              "      <td>970</td>\n",
              "    </tr>\n",
              "  </tbody>\n",
              "</table>\n",
              "</div>\n",
              "      <button class=\"colab-df-convert\" onclick=\"convertToInteractive('df-29696d43-9603-4693-8ed9-4d550ed43809')\"\n",
              "              title=\"Convert this dataframe to an interactive table.\"\n",
              "              style=\"display:none;\">\n",
              "        \n",
              "  <svg xmlns=\"http://www.w3.org/2000/svg\" height=\"24px\"viewBox=\"0 0 24 24\"\n",
              "       width=\"24px\">\n",
              "    <path d=\"M0 0h24v24H0V0z\" fill=\"none\"/>\n",
              "    <path d=\"M18.56 5.44l.94 2.06.94-2.06 2.06-.94-2.06-.94-.94-2.06-.94 2.06-2.06.94zm-11 1L8.5 8.5l.94-2.06 2.06-.94-2.06-.94L8.5 2.5l-.94 2.06-2.06.94zm10 10l.94 2.06.94-2.06 2.06-.94-2.06-.94-.94-2.06-.94 2.06-2.06.94z\"/><path d=\"M17.41 7.96l-1.37-1.37c-.4-.4-.92-.59-1.43-.59-.52 0-1.04.2-1.43.59L10.3 9.45l-7.72 7.72c-.78.78-.78 2.05 0 2.83L4 21.41c.39.39.9.59 1.41.59.51 0 1.02-.2 1.41-.59l7.78-7.78 2.81-2.81c.8-.78.8-2.07 0-2.86zM5.41 20L4 18.59l7.72-7.72 1.47 1.35L5.41 20z\"/>\n",
              "  </svg>\n",
              "      </button>\n",
              "      \n",
              "  <style>\n",
              "    .colab-df-container {\n",
              "      display:flex;\n",
              "      flex-wrap:wrap;\n",
              "      gap: 12px;\n",
              "    }\n",
              "\n",
              "    .colab-df-convert {\n",
              "      background-color: #E8F0FE;\n",
              "      border: none;\n",
              "      border-radius: 50%;\n",
              "      cursor: pointer;\n",
              "      display: none;\n",
              "      fill: #1967D2;\n",
              "      height: 32px;\n",
              "      padding: 0 0 0 0;\n",
              "      width: 32px;\n",
              "    }\n",
              "\n",
              "    .colab-df-convert:hover {\n",
              "      background-color: #E2EBFA;\n",
              "      box-shadow: 0px 1px 2px rgba(60, 64, 67, 0.3), 0px 1px 3px 1px rgba(60, 64, 67, 0.15);\n",
              "      fill: #174EA6;\n",
              "    }\n",
              "\n",
              "    [theme=dark] .colab-df-convert {\n",
              "      background-color: #3B4455;\n",
              "      fill: #D2E3FC;\n",
              "    }\n",
              "\n",
              "    [theme=dark] .colab-df-convert:hover {\n",
              "      background-color: #434B5C;\n",
              "      box-shadow: 0px 1px 3px 1px rgba(0, 0, 0, 0.15);\n",
              "      filter: drop-shadow(0px 1px 2px rgba(0, 0, 0, 0.3));\n",
              "      fill: #FFFFFF;\n",
              "    }\n",
              "  </style>\n",
              "\n",
              "      <script>\n",
              "        const buttonEl =\n",
              "          document.querySelector('#df-29696d43-9603-4693-8ed9-4d550ed43809 button.colab-df-convert');\n",
              "        buttonEl.style.display =\n",
              "          google.colab.kernel.accessAllowed ? 'block' : 'none';\n",
              "\n",
              "        async function convertToInteractive(key) {\n",
              "          const element = document.querySelector('#df-29696d43-9603-4693-8ed9-4d550ed43809');\n",
              "          const dataTable =\n",
              "            await google.colab.kernel.invokeFunction('convertToInteractive',\n",
              "                                                     [key], {});\n",
              "          if (!dataTable) return;\n",
              "\n",
              "          const docLinkHtml = 'Like what you see? Visit the ' +\n",
              "            '<a target=\"_blank\" href=https://colab.research.google.com/notebooks/data_table.ipynb>data table notebook</a>'\n",
              "            + ' to learn more about interactive tables.';\n",
              "          element.innerHTML = '';\n",
              "          dataTable['output_type'] = 'display_data';\n",
              "          await google.colab.output.renderOutput(dataTable, element);\n",
              "          const docLink = document.createElement('div');\n",
              "          docLink.innerHTML = docLinkHtml;\n",
              "          element.appendChild(docLink);\n",
              "        }\n",
              "      </script>\n",
              "    </div>\n",
              "  </div>\n",
              "  "
            ]
          },
          "metadata": {},
          "execution_count": 146
        }
      ]
    },
    {
      "cell_type": "code",
      "source": [
        "from string import punctuation\n",
        "data['text'] = data['text'].map(lambda x: x.lower())\n",
        "data['text'] = data['text'].map(lambda txt: ''.join(list(filter(lambda x: x.isalpha() or x == ' ', txt))))\n",
        "# for i in range(len(data['text'])):     #map(lambda txt: ''.join(filter(lambda x: x.isalnum(), txt)))\n",
        "#     data['text'].iloc[i] = ''.join(list(filter(lambda x: x.isalpha() or x == ' ', data['text'].iloc[i])))\n",
        "data['text'] = data['text'].map(lambda txt: ' '.join(filter(lambda x: x, txt.split(' '))))\n",
        "data['text']\n"
      ],
      "metadata": {
        "colab": {
          "base_uri": "https://localhost:8080/"
        },
        "id": "5Qn2gcomzuik",
        "outputId": "d54f8274-199e-45ea-80aa-71c4a15bebd2"
      },
      "execution_count": null,
      "outputs": [
        {
          "output_type": "execute_result",
          "data": {
            "text/plain": [
              "0       головний тренер солігорського шахтаря юрій вер...\n",
              "1       про це на своїй сторінці у facebook написав пр...\n",
              "2       про це повідомляється в доповіді некомерційної...\n",
              "3       легенда нба шакіл оніл продав свій маєток у фл...\n",
              "4       засновник фінансової піраміди bb jewelry микол...\n",
              "                              ...                        \n",
              "9995    apple встановила суворі стандарти контролю яко...\n",
              "9996    на середу серпня національний банк україни вст...\n",
              "9997    про це повідомляє meduza з instagram фітнесбло...\n",
              "9998    про це повідомляє еспресоtv з посиланням на ап...\n",
              "9999    про це повідомив голова фракції блок петра пор...\n",
              "Name: text, Length: 10000, dtype: object"
            ]
          },
          "metadata": {},
          "execution_count": 200
        }
      ]
    },
    {
      "cell_type": "code",
      "source": [
        "data['text'].iloc[0]"
      ],
      "metadata": {
        "colab": {
          "base_uri": "https://localhost:8080/",
          "height": 110
        },
        "id": "R14BPsx93LJN",
        "outputId": "3cb3eb29-1e9b-4e6c-978d-a77680d5db01"
      },
      "execution_count": null,
      "outputs": [
        {
          "output_type": "execute_result",
          "data": {
            "text/plain": [
              "'головний тренер солігорського шахтаря юрій вернидуб на післяматчевій пресконференції пояснив чому його підопічні програли команді слуцьк такого початку я не памятаю у своєму житті але що є то є виправдовуватися я не буду якщо команда в тій грі зі смолевичами завдає удару зараз або ударів з них у ворота і ми забити не можемо не знаю значить не вміємо ми забивати якщо пенальті ми не можемо реалізувати забивай і було б хвилин часу все могло б бути поіншому але що маємо те маємо у заявці не було сачівка він травму отримав ще в грі зі смолевичами у нього міжреберна невралгія не міг вийти у шіндагорідзе проблема з хрестоподібною звязкою коли це вирішиться я навіть не знаю треба ще робити повторне мрт а так як я так зрозумів у нього вже була така проблема то треба їхати туди де робили але зараз все закрито проблема чого не вистачило в обороні у першому голі просто йшла подача і все до цього були удари не було ми навпаки нагнітали були моменти перекладина не доводили до логічного завершення у них же перша вилазка і штрафний цей до воріт метрів йшла подача ніхто не торкнувся і гол що говорити сумно'"
            ],
            "application/vnd.google.colaboratory.intrinsic+json": {
              "type": "string"
            }
          },
          "metadata": {},
          "execution_count": 184
        }
      ]
    },
    {
      "cell_type": "code",
      "source": [
        "!wget 'https://raw.githubusercontent.com/skupriienko/Ukrainian-Stopwords/master/stopwords_ua.txt'"
      ],
      "metadata": {
        "colab": {
          "base_uri": "https://localhost:8080/"
        },
        "id": "N2g-CTNW3LOk",
        "outputId": "61e9a094-8db5-4b56-cdc2-c186e74958ba"
      },
      "execution_count": null,
      "outputs": [
        {
          "output_type": "stream",
          "name": "stdout",
          "text": [
            "--2022-11-25 22:34:11--  https://raw.githubusercontent.com/skupriienko/Ukrainian-Stopwords/master/stopwords_ua.txt\n",
            "Resolving raw.githubusercontent.com (raw.githubusercontent.com)... 185.199.110.133, 185.199.108.133, 185.199.111.133, ...\n",
            "Connecting to raw.githubusercontent.com (raw.githubusercontent.com)|185.199.110.133|:443... connected.\n",
            "HTTP request sent, awaiting response... 200 OK\n",
            "Length: 24502 (24K) [text/plain]\n",
            "Saving to: ‘stopwords_ua.txt’\n",
            "\n",
            "stopwords_ua.txt    100%[===================>]  23.93K  --.-KB/s    in 0.002s  \n",
            "\n",
            "2022-11-25 22:34:11 (10.2 MB/s) - ‘stopwords_ua.txt’ saved [24502/24502]\n",
            "\n"
          ]
        }
      ]
    },
    {
      "cell_type": "code",
      "source": [
        "with open('stopwords_ua.txt', 'r') as f:\n",
        "    stopwords = set(map(lambda x: x.replace('\\n', '').replace(\"'\", ''), f.readlines()))\n",
        "stopwords[:10]"
      ],
      "metadata": {
        "colab": {
          "base_uri": "https://localhost:8080/"
        },
        "id": "69_YrWVz7WIO",
        "outputId": "1eee9e03-9694-4fa9-e5ab-0e50641a74a5"
      },
      "execution_count": null,
      "outputs": [
        {
          "output_type": "execute_result",
          "data": {
            "text/plain": [
              "['а',\n",
              " 'аби',\n",
              " 'абиде',\n",
              " 'абиким',\n",
              " 'абикого',\n",
              " 'абиколи',\n",
              " 'абикому',\n",
              " 'абикуди',\n",
              " 'абихто',\n",
              " 'абичий']"
            ]
          },
          "metadata": {},
          "execution_count": 88
        }
      ]
    },
    {
      "cell_type": "code",
      "source": [
        "data['text'] = data['text'].map(lambda txt: ' '.join(list(filter(lambda x: x not in stopwords, txt.split(' ')))))\n",
        "data['text']"
      ],
      "metadata": {
        "colab": {
          "base_uri": "https://localhost:8080/"
        },
        "id": "L7HK-Bq08xNp",
        "outputId": "92137b25-5996-49ab-de48-2d377bcb01fa"
      },
      "execution_count": null,
      "outputs": [
        {
          "output_type": "execute_result",
          "data": {
            "text/plain": [
              "0       головний тренер солігорського шахтаря юрій вер...\n",
              "1       сторінці facebook написав президент компанії п...\n",
              "2       повідомляється доповіді некомерційної організа...\n",
              "3       легенда нба шакіл оніл продав маєток флориді в...\n",
              "4       засновник фінансової піраміди bb jewelry микол...\n",
              "                              ...                        \n",
              "9995    apple встановила суворі стандарти контролю яко...\n",
              "9996    серпня національний банк україни встановив офі...\n",
              "9997    повідомляє meduza instagram фітнесблогер опубл...\n",
              "9998    повідомляє еспресоtv посиланням апостроф росія...\n",
              "9999    повідомив голова фракції блок петра порошенко ...\n",
              "Name: text, Length: 10000, dtype: object"
            ]
          },
          "metadata": {},
          "execution_count": 201
        }
      ]
    },
    {
      "cell_type": "code",
      "source": [
        "!pip install git+https://github.com/Desklop/Uk_Stemmer"
      ],
      "metadata": {
        "colab": {
          "base_uri": "https://localhost:8080/"
        },
        "id": "rWIAWu5S-bsr",
        "outputId": "9b5e1e56-bdd1-4459-83b8-f89503f1c030"
      },
      "execution_count": null,
      "outputs": [
        {
          "output_type": "stream",
          "name": "stdout",
          "text": [
            "Looking in indexes: https://pypi.org/simple, https://us-python.pkg.dev/colab-wheels/public/simple/\n",
            "Collecting git+https://github.com/Desklop/Uk_Stemmer\n",
            "  Cloning https://github.com/Desklop/Uk_Stemmer to /tmp/pip-req-build-t57jdg13\n",
            "  Running command git clone -q https://github.com/Desklop/Uk_Stemmer /tmp/pip-req-build-t57jdg13\n",
            "Building wheels for collected packages: uk-stemmer\n",
            "  Building wheel for uk-stemmer (setup.py) ... \u001b[?25l\u001b[?25hdone\n",
            "  Created wheel for uk-stemmer: filename=uk_stemmer-1.0-py3-none-any.whl size=9512 sha256=c1f4f7caf2c9fb4ca0f6a2d1699430d5e5ea3fd033f7f9df67912f9e071fbdde\n",
            "  Stored in directory: /tmp/pip-ephem-wheel-cache-duvdsolz/wheels/40/53/2f/982431dc2aff61a4eb52a030950bbbdef0d9178114373d6c0e\n",
            "Successfully built uk-stemmer\n",
            "Installing collected packages: uk-stemmer\n",
            "Successfully installed uk-stemmer-1.0\n"
          ]
        }
      ]
    },
    {
      "cell_type": "code",
      "source": [
        "# TODO: LEMATIZATION\n",
        "!pip install simplemma\n",
        "\n"
      ],
      "metadata": {
        "colab": {
          "base_uri": "https://localhost:8080/"
        },
        "id": "XxHuRajrAY-5",
        "outputId": "1fb073ea-36ad-4447-b6db-37b75fb9317d"
      },
      "execution_count": null,
      "outputs": [
        {
          "output_type": "stream",
          "name": "stdout",
          "text": [
            "Looking in indexes: https://pypi.org/simple, https://us-python.pkg.dev/colab-wheels/public/simple/\n",
            "Collecting simplemma\n",
            "  Downloading simplemma-0.9.0-py3-none-any.whl (76.2 MB)\n",
            "\u001b[K     |████████████████████████████████| 76.2 MB 74 kB/s \n",
            "\u001b[?25hInstalling collected packages: simplemma\n",
            "Successfully installed simplemma-0.9.0\n"
          ]
        }
      ]
    },
    {
      "cell_type": "markdown",
      "source": [
        "##Лематизація\n"
      ],
      "metadata": {
        "id": "7SVxZdVwYYzl"
      }
    },
    {
      "cell_type": "code",
      "source": [
        "import simplemma \n",
        "\n",
        "data['text'] = data['text'].map(lambda txt: ' '.join(list(map(lambda x: simplemma.lemmatize(x, lang='uk'), filter(lambda x: x, txt.split(' '))))))\n",
        "data['text']"
      ],
      "metadata": {
        "colab": {
          "base_uri": "https://localhost:8080/"
        },
        "id": "VWkqFaijER0x",
        "outputId": "5ba801fa-bb29-450f-f753-e9e4d2836a76"
      },
      "execution_count": null,
      "outputs": [
        {
          "output_type": "execute_result",
          "data": {
            "text/plain": [
              "0       головний тренер солігорського шахтар Юрій верн...\n",
              "1       сторінка facebook написати президент компанія ...\n",
              "2       повідомлятися доповідь некомерційної організац...\n",
              "3       легенда нба шакіл оніл продати маєток флориді ...\n",
              "4       засновник фінансовий піраміда bb jewelry Микол...\n",
              "                              ...                        \n",
              "9995    apple встановити суворий стандарт контроль які...\n",
              "9996    серпень національний банк Україна встановити о...\n",
              "9997    повідомляти meduza instagram фітнесблогер опуб...\n",
              "9998    повідомляти еспресоtv посилання апостроф росія...\n",
              "9999    повідомити голова фракція блок Петро порошенко...\n",
              "Name: text, Length: 10000, dtype: object"
            ]
          },
          "metadata": {},
          "execution_count": 202
        }
      ]
    },
    {
      "cell_type": "markdown",
      "source": [
        "##Стемінг"
      ],
      "metadata": {
        "id": "TGr8c6jsdqA8"
      }
    },
    {
      "cell_type": "code",
      "source": [
        "from uk_stemmer import UkStemmer\n",
        "stemmer = UkStemmer()\n",
        "data['text'] = data['text'].map(lambda txt: ' '.join(list(map(lambda x: stemmer.stem_word(x), txt.split(' ')))))\n",
        "data['text']"
      ],
      "metadata": {
        "id": "NkdMNAs2EzGw",
        "outputId": "5a527b6e-9eb2-4135-80ec-24062111f5d0",
        "colab": {
          "base_uri": "https://localhost:8080/"
        }
      },
      "execution_count": null,
      "outputs": [
        {
          "output_type": "execute_result",
          "data": {
            "text/plain": [
              "0       головн тренер солігорськ шахтар юр вернидуб пі...\n",
              "1       сторінк facebook напис президент компан петр ч...\n",
              "2       повідомл доповід некомерційн організац oxfam д...\n",
              "3       легенд нба шакіл оніл прод маєток флорид варті...\n",
              "4       засновник фінансов пірамід bb jewelry микол го...\n",
              "                              ...                        \n",
              "9995    apple встановит сувор стандарт контрол якіст к...\n",
              "9996    серпен національн банк україн встановит офіцій...\n",
              "9997    повідомл meduza instagram фітнесблогер опублік...\n",
              "9998    повідомл еспресоtv посиланн апостроф рос спроб...\n",
              "9999    повідомит гол фракц блок петр порошенк юр луце...\n",
              "Name: text, Length: 10000, dtype: object"
            ]
          },
          "metadata": {},
          "execution_count": 203
        }
      ]
    },
    {
      "cell_type": "markdown",
      "source": [
        "##Наївний Баєс"
      ],
      "metadata": {
        "id": "1DH5XQr9dx1D"
      }
    },
    {
      "cell_type": "code",
      "source": [
        "from sklearn.model_selection import train_test_split\n",
        "train_x, test_x, train_y, test_y = train_test_split(data['text'], data['target'], train_size=0.8)\n",
        "train_x.shape"
      ],
      "metadata": {
        "colab": {
          "base_uri": "https://localhost:8080/"
        },
        "id": "U4dTceBAF6Gx",
        "outputId": "2f911d03-a6e0-4aaa-a11e-5293355aa50f"
      },
      "execution_count": null,
      "outputs": [
        {
          "output_type": "execute_result",
          "data": {
            "text/plain": [
              "(8000,)"
            ]
          },
          "metadata": {},
          "execution_count": 204
        }
      ]
    },
    {
      "cell_type": "code",
      "source": [
        "from sklearn.pipeline import make_pipeline\n",
        "from sklearn.feature_extraction.text import TfidfVectorizer\n",
        "from sklearn.naive_bayes import MultinomialNB\n",
        "pipe = make_pipeline(TfidfVectorizer(), MultinomialNB())"
      ],
      "metadata": {
        "id": "vlP4jETgJEJ8"
      },
      "execution_count": null,
      "outputs": []
    },
    {
      "cell_type": "code",
      "source": [
        "pipe.fit(train_x, train_y)"
      ],
      "metadata": {
        "colab": {
          "base_uri": "https://localhost:8080/"
        },
        "id": "OlYF5YHpJ72O",
        "outputId": "318498cc-6e2e-49cd-9153-fb04af47000e"
      },
      "execution_count": null,
      "outputs": [
        {
          "output_type": "execute_result",
          "data": {
            "text/plain": [
              "Pipeline(steps=[('tfidfvectorizer', TfidfVectorizer()),\n",
              "                ('multinomialnb', MultinomialNB())])"
            ]
          },
          "metadata": {},
          "execution_count": 206
        }
      ]
    },
    {
      "cell_type": "code",
      "source": [
        "from sklearn.metrics import classification_report, accuracy_score\n",
        "y_pred = pipe.predict(test_x)\n",
        "\n",
        "print(classification_report(test_y, y_pred, target_names=topics))\n"
      ],
      "metadata": {
        "colab": {
          "base_uri": "https://localhost:8080/"
        },
        "id": "rF1JQrTvKAhq",
        "outputId": "55f71971-7648-4c7c-a860-b2257ebb0f38"
      },
      "execution_count": null,
      "outputs": [
        {
          "output_type": "stream",
          "name": "stdout",
          "text": [
            "              precision    recall  f1-score   support\n",
            "\n",
            "      бізнес       0.82      0.29      0.43       282\n",
            "      новини       0.77      0.54      0.64       427\n",
            "    політика       0.59      0.99      0.74       624\n",
            "       спорт       0.98      0.97      0.98       474\n",
            "  технології       0.91      0.44      0.59       193\n",
            "\n",
            "    accuracy                           0.74      2000\n",
            "   macro avg       0.82      0.64      0.67      2000\n",
            "weighted avg       0.79      0.74      0.72      2000\n",
            "\n"
          ]
        }
      ]
    },
    {
      "cell_type": "code",
      "source": [
        "data['text'].iloc[998]"
      ],
      "metadata": {
        "colab": {
          "base_uri": "https://localhost:8080/",
          "height": 55
        },
        "id": "Ssk2Sm_hMKOk",
        "outputId": "a6157309-c2d2-4535-cc99-970c43d4f034"
      },
      "execution_count": null,
      "outputs": [
        {
          "output_type": "execute_result",
          "data": {
            "text/plain": [
              "'повідомляти львівський ода стан листопад львівський обласний інфекційний клінічний лікарня симптом гострий кишкової інфекція перебувати лікування особа дитина йтися повідомлення зазначити жовтень поточний вказаний особа харчувались кафе трапезна український католицький університет вулиця козельницькій стан пацієнт середній важкості'"
            ],
            "application/vnd.google.colaboratory.intrinsic+json": {
              "type": "string"
            }
          },
          "metadata": {},
          "execution_count": 159
        }
      ]
    },
    {
      "cell_type": "code",
      "source": [
        "pipe.predict([data['text'].iloc[999]])"
      ],
      "metadata": {
        "colab": {
          "base_uri": "https://localhost:8080/"
        },
        "id": "Fyy-gqUjMQQx",
        "outputId": "d8b1288b-8abc-4180-f2bb-8cb9315e852b"
      },
      "execution_count": null,
      "outputs": [
        {
          "output_type": "execute_result",
          "data": {
            "text/plain": [
              "array(['політика'], dtype='<U10')"
            ]
          },
          "metadata": {},
          "execution_count": 160
        }
      ]
    },
    {
      "cell_type": "code",
      "source": [
        "data['target'].iloc[999]"
      ],
      "metadata": {
        "colab": {
          "base_uri": "https://localhost:8080/",
          "height": 36
        },
        "id": "PDntf38EMiRT",
        "outputId": "ba113c73-3ab6-44b1-aa6a-9fca5de70a8b"
      },
      "execution_count": null,
      "outputs": [
        {
          "output_type": "execute_result",
          "data": {
            "text/plain": [
              "'політика'"
            ],
            "application/vnd.google.colaboratory.intrinsic+json": {
              "type": "string"
            }
          },
          "metadata": {},
          "execution_count": 161
        }
      ]
    },
    {
      "cell_type": "code",
      "source": [
        "from sklearn.linear_model import LogisticRegression\n",
        "pipe = make_pipeline(TfidfVectorizer(), LogisticRegression(max_iter=1000, class_weight='balanced'))\n",
        "pipe.fit(train_x, train_y)"
      ],
      "metadata": {
        "colab": {
          "base_uri": "https://localhost:8080/"
        },
        "id": "iPVA3yK_QaRg",
        "outputId": "4557ce77-d2ef-4a0f-ccc7-4709eb43a476"
      },
      "execution_count": null,
      "outputs": [
        {
          "output_type": "execute_result",
          "data": {
            "text/plain": [
              "Pipeline(steps=[('tfidfvectorizer', TfidfVectorizer()),\n",
              "                ('logisticregression',\n",
              "                 LogisticRegression(class_weight='balanced', max_iter=1000))])"
            ]
          },
          "metadata": {},
          "execution_count": 212
        }
      ]
    },
    {
      "cell_type": "markdown",
      "source": [
        "##Логістична регресія"
      ],
      "metadata": {
        "id": "4g4YBpizd6Py"
      }
    },
    {
      "cell_type": "code",
      "source": [
        "y_pred = pipe.predict(test_x)\n",
        "print(classification_report(test_y, y_pred, target_names=topics))\n",
        "print(accuracy_score(test_y, y_pred))"
      ],
      "metadata": {
        "colab": {
          "base_uri": "https://localhost:8080/"
        },
        "id": "H2o1Y42mRHoe",
        "outputId": "bad3801c-5271-40c8-dcff-b46edc0afe43"
      },
      "execution_count": null,
      "outputs": [
        {
          "output_type": "stream",
          "name": "stdout",
          "text": [
            "              precision    recall  f1-score   support\n",
            "\n",
            "      бізнес       0.80      0.84      0.82       282\n",
            "      новини       0.80      0.80      0.80       427\n",
            "    політика       0.91      0.87      0.89       624\n",
            "       спорт       0.99      0.98      0.98       474\n",
            "  технології       0.79      0.87      0.83       193\n",
            "\n",
            "    accuracy                           0.88      2000\n",
            "   macro avg       0.86      0.87      0.86      2000\n",
            "weighted avg       0.88      0.88      0.88      2000\n",
            "\n",
            "0.8765\n"
          ]
        }
      ]
    },
    {
      "cell_type": "markdown",
      "source": [
        "##Рандом Форест"
      ],
      "metadata": {
        "id": "RDBtACxmegdz"
      }
    },
    {
      "cell_type": "code",
      "source": [
        "from sklearn.ensemble import RandomForestClassifier\n",
        "pipe = make_pipeline(TfidfVectorizer(), RandomForestClassifier(200))\n",
        "pipe.fit(train_x, train_y)"
      ],
      "metadata": {
        "colab": {
          "base_uri": "https://localhost:8080/"
        },
        "id": "6TMhXUW7S90u",
        "outputId": "3068b4fb-38f6-4da2-f218-09bed110564a"
      },
      "execution_count": null,
      "outputs": [
        {
          "output_type": "execute_result",
          "data": {
            "text/plain": [
              "Pipeline(steps=[('tfidfvectorizer', TfidfVectorizer()),\n",
              "                ('randomforestclassifier',\n",
              "                 RandomForestClassifier(n_estimators=200))])"
            ]
          },
          "metadata": {},
          "execution_count": 194
        }
      ]
    },
    {
      "cell_type": "code",
      "source": [
        "y_pred = pipe.predict(test_x)\n",
        "print(classification_report(test_y, y_pred, target_names=topics))\n",
        "print(accuracy_score(test_y, y_pred))"
      ],
      "metadata": {
        "colab": {
          "base_uri": "https://localhost:8080/"
        },
        "id": "ZgoleG5hTKps",
        "outputId": "9f68a8c2-c7b2-4325-cba0-a17803ac7606"
      },
      "execution_count": null,
      "outputs": [
        {
          "output_type": "stream",
          "name": "stdout",
          "text": [
            "              precision    recall  f1-score   support\n",
            "\n",
            "      бізнес       0.78      0.69      0.73       235\n",
            "      новини       0.78      0.63      0.70       405\n",
            "    політика       0.79      0.94      0.86       690\n",
            "       спорт       0.96      0.99      0.97       470\n",
            "  технології       0.87      0.70      0.78       200\n",
            "\n",
            "    accuracy                           0.83      2000\n",
            "   macro avg       0.84      0.79      0.81      2000\n",
            "weighted avg       0.83      0.83      0.83      2000\n",
            "\n",
            "0.835\n"
          ]
        }
      ]
    }
  ]
}
